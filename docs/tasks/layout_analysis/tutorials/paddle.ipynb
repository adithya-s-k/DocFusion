{
 "cells": [
  {
   "cell_type": "markdown",
   "metadata": {},
   "source": [
    "## PaddleOCR Layout Analysis\n",
    "\n",
    "```python\n",
    "from omnidocs.tasks.layout_analysis import PaddleLayoutAnalyzer\n",
    "```"
   ]
  }
 ],
 "metadata": {
  "language_info": {
   "name": "python"
  }
 },
 "nbformat": 4,
 "nbformat_minor": 2
}

{
 "cells": [
  {
   "cell_type": "markdown",
   "metadata": {},
   "source": [
    "# DocLayout YOLO\n",
    "\n",
    "```python\n",
    "from omnidocs.tasks.layout_analysis import YOLOLayoutAnalyzer\n",
    "```"
   ]
  }
 ],
 "metadata": {
  "language_info": {
   "name": "python"
  }
 },
 "nbformat": 4,
 "nbformat_minor": 2
}

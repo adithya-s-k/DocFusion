{
 "cells": [
  {
   "cell_type": "markdown",
   "metadata": {},
   "source": [
    "# UnimerNet\n",
    "\n",
    "```python\n",
    "from omnidocs.tasks.math_extraction import UniMathNet\n",
    "```\n"
   ]
  }
 ],
 "metadata": {
  "language_info": {
   "name": "python"
  }
 },
 "nbformat": 4,
 "nbformat_minor": 2
}
